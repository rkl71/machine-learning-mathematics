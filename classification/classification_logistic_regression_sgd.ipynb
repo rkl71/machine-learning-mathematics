{
 "cells": [
  {
   "cell_type": "markdown",
   "id": "e9c80597-a689-4366-b422-a3579522e903",
   "metadata": {},
   "source": [
    "# 随机梯度下降"
   ]
  },
  {
   "cell_type": "code",
   "execution_count": 2,
   "id": "a515ef60-2c73-468b-94c4-bf77a5d4672a",
   "metadata": {},
   "outputs": [],
   "source": [
    "import numpy as np\n",
    "import matplotlib.pyplot as plt"
   ]
  },
  {
   "cell_type": "code",
   "execution_count": 3,
   "id": "681520df-0881-478d-8e31-2933428107c3",
   "metadata": {},
   "outputs": [],
   "source": [
    "# 读入训练数据\n",
    "train = np.loadtxt('data3.csv', delimiter=',', skiprows=1)\n",
    "train_x = train[:,0:2]\n",
    "train_y = train[:,2]"
   ]
  },
  {
   "cell_type": "code",
   "execution_count": 4,
   "id": "38b7806e-75da-4327-89d9-865b7e037765",
   "metadata": {},
   "outputs": [],
   "source": [
    "# 参数初始化\n",
    "theta = np.random.rand(4)"
   ]
  },
  {
   "cell_type": "code",
   "execution_count": 5,
   "id": "30846c18-b8cf-4338-9455-a408108c481f",
   "metadata": {},
   "outputs": [],
   "source": [
    "# 标准化\n",
    "mu = train_x.mean(axis=0)\n",
    "sigma = train_x.std(axis=0)\n",
    "def standardize(x):\n",
    "    return (x - mu) / sigma"
   ]
  },
  {
   "cell_type": "code",
   "execution_count": 6,
   "id": "cd308fbe-4540-4e76-9367-434c4f675c74",
   "metadata": {},
   "outputs": [],
   "source": [
    "train_z = standardize(train_x)"
   ]
  },
  {
   "cell_type": "code",
   "execution_count": 7,
   "id": "8df312f5-abd4-4c00-85ca-0d596792bf1e",
   "metadata": {},
   "outputs": [],
   "source": [
    "# 增加 x0 和 x3\n",
    "def to_matrix(x):\n",
    "    x0 = np.ones([x.shape[0], 1])\n",
    "    x3 = x[:,0,np.newaxis] ** 2\n",
    "    return np.hstack([x0, x, x3])"
   ]
  },
  {
   "cell_type": "code",
   "execution_count": 8,
   "id": "e4fd19ca-d3bf-4596-90ce-e174abc911ce",
   "metadata": {},
   "outputs": [],
   "source": [
    "X = to_matrix(train_z)"
   ]
  },
  {
   "cell_type": "code",
   "execution_count": 9,
   "id": "5f78ae97-7479-4fe7-b557-b2d3f3cc5e66",
   "metadata": {},
   "outputs": [],
   "source": [
    "# sigmoid 函数\n",
    "def f(x):\n",
    "    return 1 / (1 + np.exp(-np.dot(x, theta)))\n",
    "\n",
    "# 分类函数\n",
    "def classify(x):\n",
    "    return (f(x) >= 0.5).astype(int)"
   ]
  },
  {
   "cell_type": "code",
   "execution_count": 10,
   "id": "a9d89d27-cc99-4974-9472-3ee97c4f57de",
   "metadata": {},
   "outputs": [],
   "source": [
    "# 学习率\n",
    "ETA = 1e-3"
   ]
  },
  {
   "cell_type": "code",
   "execution_count": 11,
   "id": "17e1e7e2-e4c4-4f96-826b-52bb360cbcca",
   "metadata": {},
   "outputs": [],
   "source": [
    "# 重复次数\n",
    "epoch = 5000"
   ]
  },
  {
   "cell_type": "code",
   "execution_count": 12,
   "id": "a328957f-2279-4415-8ff0-4dbedc77cd7d",
   "metadata": {},
   "outputs": [],
   "source": [
    "# 更新次数\n",
    "count = 0"
   ]
  },
  {
   "cell_type": "code",
   "execution_count": 13,
   "id": "52d5b62d-5006-41d9-b46d-c58e6c7b1305",
   "metadata": {},
   "outputs": [],
   "source": [
    "# 重复学习\n",
    "for _ in range(epoch):\n",
    "    # 使用随机梯度下降法更新参数\n",
    "    p = np.random.permutation(X.shape[0])\n",
    "    for x, y in zip(X[p,:], train_y[p]):\n",
    "        theta = theta - ETA * (f(x) - y) * x\n",
    "\n",
    "    # 日志输出\n",
    "    # count += 1\n",
    "    # print('第 {} 次 : theta = {}'.format(count, theta))"
   ]
  },
  {
   "cell_type": "code",
   "execution_count": 14,
   "id": "836177b0-77a4-4af6-b7e2-daa6032cce4f",
   "metadata": {},
   "outputs": [
    {
     "data": {
      "image/png": "[encoded data removed]",
      "text/plain": [
       "<Figure size 640x480 with 1 Axes>"
      ]
     },
     "metadata": {},
     "output_type": "display_data"
    }
   ],
   "source": [
    "# 绘图确认\n",
    "x1 = np.linspace(-2, 2, 100)\n",
    "x2 = -(theta[0] + theta[1] * x1 + theta[3] * x1 ** 2) / theta[2]\n",
    "plt.plot(train_z[train_y == 1, 0], train_z[train_y == 1, 1], 'o')\n",
    "plt.plot(train_z[train_y == 0, 0], train_z[train_y == 0, 1], 'x')\n",
    "plt.plot(x1, x2, linestyle='dashed')\n",
    "plt.show()"
   ]
  },
  {
   "cell_type": "code",
   "execution_count": null,
   "id": "cf912c41-f089-4c71-896e-be3b11e4ca97",
   "metadata": {},
   "outputs": [],
   "source": []
  }
 ],
 "metadata": {
  "kernelspec": {
   "display_name": "Python 3 (ipykernel)",
   "language": "python",
   "name": "python3"
  },
  "language_info": {
   "codemirror_mode": {
    "name": "ipython",
    "version": 3
   },
   "file_extension": ".py",
   "mimetype": "text/x-python",
   "name": "python",
   "nbconvert_exporter": "python",
   "pygments_lexer": "ipython3",
   "version": "3.12.4"
  }
 },
 "nbformat": 4,
 "nbformat_minor": 5
}
