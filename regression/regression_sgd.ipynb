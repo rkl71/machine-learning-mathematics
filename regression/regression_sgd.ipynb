{
 "cells": [
  {
   "cell_type": "markdown",
   "id": "b3361bbf-d6cb-4c03-bf4d-ff19e9102935",
   "metadata": {},
   "source": [
    "# 随机梯度下降"
   ]
  },
  {
   "cell_type": "code",
   "execution_count": 2,
   "id": "3255fe18-7c07-4112-9619-24bb02d269e5",
   "metadata": {},
   "outputs": [],
   "source": [
    "import numpy as np\n",
    "import matplotlib.pyplot as plt"
   ]
  },
  {
   "cell_type": "code",
   "execution_count": 3,
   "id": "62c59abc-ec05-4b8b-8f38-51c0c06f1feb",
   "metadata": {},
   "outputs": [],
   "source": [
    "# 读入训练数据\n",
    "train = np.loadtxt('click.csv', delimiter=',', dtype='int', skiprows=1)\n",
    "train_x = train[:,0]\n",
    "train_y = train[:,1]"
   ]
  },
  {
   "cell_type": "code",
   "execution_count": 4,
   "id": "60ed08bb-b05e-4948-b0bc-959f39d24990",
   "metadata": {},
   "outputs": [],
   "source": [
    "# 标准化\n",
    "mu = train_x.mean()\n",
    "sigma = train_x.std()\n",
    "def standardize(x):\n",
    "    return (x - mu) / sigma"
   ]
  },
  {
   "cell_type": "code",
   "execution_count": 5,
   "id": "545a0923-cefe-4297-a269-75caf7eb182b",
   "metadata": {},
   "outputs": [],
   "source": [
    "train_z = standardize(train_x)"
   ]
  },
  {
   "cell_type": "code",
   "execution_count": 6,
   "id": "8ae99f9b-ff17-4419-9e50-c63b3c355ebf",
   "metadata": {},
   "outputs": [],
   "source": [
    "# 用随机数对参数初始化\n",
    "theta = np.random.rand(3)"
   ]
  },
  {
   "cell_type": "code",
   "execution_count": 7,
   "id": "f8b2aefc-dfc6-417c-a262-df1d31ca1dd9",
   "metadata": {},
   "outputs": [],
   "source": [
    "# 均方误差的历史记录\n",
    "errors = []"
   ]
  },
  {
   "cell_type": "code",
   "execution_count": 8,
   "id": "8e011f1f-dbbe-4603-a640-bc8e4d32e2dd",
   "metadata": {},
   "outputs": [],
   "source": [
    "# 创建训练数据的矩阵\n",
    "def to_matrix(x):\n",
    "    return np.vstack([np.ones(x.size), x, x ** 2]).T"
   ]
  },
  {
   "cell_type": "code",
   "execution_count": 9,
   "id": "65a03a93-710d-41b1-acb1-7d1bfbf72844",
   "metadata": {},
   "outputs": [],
   "source": [
    "X = to_matrix(train_z)"
   ]
  },
  {
   "cell_type": "code",
   "execution_count": 10,
   "id": "29981759-28f0-461e-9c29-834b07519a48",
   "metadata": {},
   "outputs": [],
   "source": [
    "# 预测函数\n",
    "def f(x):\n",
    "    return np.dot(x, theta)"
   ]
  },
  {
   "cell_type": "code",
   "execution_count": 11,
   "id": "1925e706-340d-466d-8bd6-f38bd3beab9f",
   "metadata": {},
   "outputs": [],
   "source": [
    "# 均方误差\n",
    "def MSE(x, y):\n",
    "    return (1 / x.shape[0]) * np.sum((y - f(x)) ** 2)"
   ]
  },
  {
   "cell_type": "code",
   "execution_count": 12,
   "id": "c8a98c2b-9fc0-4d0b-8f4b-3a751dcd57e3",
   "metadata": {},
   "outputs": [],
   "source": [
    "# 学习率\n",
    "ETA = 1e-3"
   ]
  },
  {
   "cell_type": "code",
   "execution_count": 13,
   "id": "9d74bd41-8692-4ada-9f7f-a31a21932980",
   "metadata": {},
   "outputs": [],
   "source": [
    "# 误差的差值\n",
    "diff = 1"
   ]
  },
  {
   "cell_type": "code",
   "execution_count": 14,
   "id": "7a17d5da-647d-4b43-997e-3369b4febcbc",
   "metadata": {},
   "outputs": [],
   "source": [
    "# 更新次数\n",
    "count = 0"
   ]
  },
  {
   "cell_type": "code",
   "execution_count": 15,
   "id": "9ed9d58e-f94d-4c87-acca-e3c953650ed2",
   "metadata": {},
   "outputs": [],
   "source": [
    "# 重复学习\n",
    "errors.append(MSE(X, train_y))\n",
    "while diff > 1e-2:\n",
    "    # 为了调整训练数据的顺序，准备随机的序列\n",
    "    p = np.random.permutation(X.shape[0])\n",
    "    # 随机取出训练数据，使用梯度下降法更新参数\n",
    "    for x, y in zip(X[p,:], train_y[p]):\n",
    "        theta = theta - ETA * (f(x) - y) * x\n",
    "    # 计算与上一次误差的差值\n",
    "    errors.append(MSE(X, train_y))\n",
    "    diff = errors[-2] - errors[-1]"
   ]
  },
  {
   "cell_type": "code",
   "execution_count": 16,
   "id": "8fef4318-6a9b-4dab-93e1-377d97a8e6fc",
   "metadata": {},
   "outputs": [
    {
     "name": "stdout",
     "output_type": "stream",
     "text": [
      "第 1 次 : theta = [398.20803132  88.51141289  21.96353427], 差值 = 0.0098\n"
     ]
    }
   ],
   "source": [
    "# 输出日志\n",
    "count += 1\n",
    "log = '第 {} 次 : theta = {}, 差值 = {:.4f}'\n",
    "print(log.format(count, theta, diff))"
   ]
  },
  {
   "cell_type": "code",
   "execution_count": 17,
   "id": "c1ab470e-c75f-4a10-80b7-f6b00187c02c",
   "metadata": {},
   "outputs": [
    {
     "data": {
      "image/png": "[encoded data removed]",
      "text/plain": [
       "<Figure size 640x480 with 1 Axes>"
      ]
     },
     "metadata": {},
     "output_type": "display_data"
    }
   ],
   "source": [
    "# 绘图确认\n",
    "x = np.linspace(-3, 3, 100)\n",
    "plt.plot(train_z, train_y, 'o')\n",
    "plt.plot(x, f(to_matrix(x)))\n",
    "plt.show()"
   ]
  },
  {
   "cell_type": "code",
   "execution_count": null,
   "id": "7ef12c23-5dd5-46bd-88b3-3de104487f8f",
   "metadata": {},
   "outputs": [],
   "source": []
  }
 ],
 "metadata": {
  "kernelspec": {
   "display_name": "Python 3 (ipykernel)",
   "language": "python",
   "name": "python3"
  },
  "language_info": {
   "codemirror_mode": {
    "name": "ipython",
    "version": 3
   },
   "file_extension": ".py",
   "mimetype": "text/x-python",
   "name": "python",
   "nbconvert_exporter": "python",
   "pygments_lexer": "ipython3",
   "version": "3.12.4"
  }
 },
 "nbformat": 4,
 "nbformat_minor": 5
}
